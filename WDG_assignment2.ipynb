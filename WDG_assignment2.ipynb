{
  "cells": [
    {
      "cell_type": "markdown",
      "metadata": {
        "id": "view-in-github",
        "colab_type": "text"
      },
      "source": [
        "<a href=\"https://colab.research.google.com/github/wdgstl/assignment2/blob/main/WDG_assignment2.ipynb\" target=\"_parent\"><img src=\"https://colab.research.google.com/assets/colab-badge.svg\" alt=\"Open In Colab\"/></a>"
      ]
    },
    {
      "cell_type": "markdown",
      "id": "13ad028b-72b7-43ed-aa78-96fd4e518040",
      "metadata": {
        "id": "13ad028b-72b7-43ed-aa78-96fd4e518040"
      },
      "source": [
        "# Assignment: Data Wrangling and Exploratory Data Analysis\n",
        "## Do Q1 and Q2, and one other question.\n",
        "`! git clone https://www.github.com/DS3001/assignment2`"
      ]
    },
    {
      "cell_type": "markdown",
      "id": "5735a4d4-8be8-433a-a351-70eb8002e632",
      "metadata": {
        "id": "5735a4d4-8be8-433a-a351-70eb8002e632"
      },
      "source": [
        "**Q1.** Open the \"tidy_data.pdf\" document in the repo, which is a paper called Tidy Data by Hadley Wickham.\n",
        "\n",
        "  1. Read the abstract. What is this paper about?\n",
        "  2. Read the introduction. What is the \"tidy data standard\" intended to accomplish?\n",
        "  3. Read the intro to section 2. What does this sentence mean: \"Like families, tidy datasets are all alike but every messy dataset is messy in its own way.\" What does this sentence mean: \"For a given dataset, it’s usually easy to figure out what are observations and what are variables, but it is surprisingly difficult to precisely define variables and observations in general.\"\n",
        "  4. Read Section 2.2. How does Wickham define values, variables, and observations?\n",
        "  5. How is \"Tidy Data\" defined in section 2.3?\n",
        "  6. Read the intro to Section 3 and Section 3.1. What are the 5 most common problems with messy datasets? Why are the data in Table 4 messy? What is \"melting\" a dataset?\n",
        "  7. Why, specifically, is table 11 messy but table 12 tidy and \"molten\"?\n",
        "  8. Read Section 6. What is the \"chicken-and-egg\" problem with focusing on tidy data? What does Wickham hope happens in the future with further work on the subject of data wrangling?"
      ]
    },
    {
      "cell_type": "markdown",
      "source": [
        "1. The abstract emphasizes how one of the most difficult parts of conducting data analysis and model development is cleaning the data. Not only is this process extremely time consuming, but there is little research to suggest ways to improve the process. This paper breaks down data cleaning and approaches it from the angle of \"data tidying,\" which refers to datasets that are structured so that each variable is a column, each observation a row, and each type of unit is a table. This consistency makes it much easier to visualize, analyze, and manipulate the data, expediating the overall model development process.\n",
        "\n",
        "2. The goal of the \"tidy data standard\" is to provide a universal way of structuring and organizing data so various tools can be used to conduct cleaning and analysis without needing to translate the data.\n",
        "\n",
        "3. : \"Like families, tidy datasets are all alike but every messy dataset is messy in its own way.\" --> This means that tidy datasets are consistent and follow a similar pattern, while messy datasets are all unique and contain different inconsistencies.\n",
        "\"For a given dataset, it’s usually easy to figure out what are observations and what are variables, but it is surprisingly difficult to precisely define variables and observations in general.\" --> When looking at a specific dataset, the context provided oftentimes makes it fairly easy to point out observations from variables. However, in general it is more difficult because certain variables can mean many different things in different context. This is why domain knowledge and expertise is so important when conducting data analysis.\n",
        "\n",
        "4. Values --> numbers (if quantiative), or strings (if qualitative). Belong to a variablke and an observation. Variables --> contains all values that measure same attribute. Observations --> contains all values measured on the same unit (person, day, ect..) across attributes\n",
        "\n",
        "5. \"Tidy Data\" maps the meaning of a dataset to its structure using 3 criteria:\n",
        "\n",
        "- Each variable forms a column\n",
        "- Each observations forms a row.\n",
        "- Each type of observation unit forms a table\n",
        "\n",
        "  It is well suited for vectorised programming (R). It is also easier for an analyst or computer to extract variables since tidy data is standardized. It is also easier to scan the raw values.\n",
        "\n",
        "6. 5 most common problems:\n",
        "- column headers are values, not variable names\n",
        "- multiple variables stored in one column\n",
        "- variables stored in both columns and rows\n",
        "- multiple types of observational units are stored in same table\n",
        "- single observational unit is stored in multiple tables\n",
        "\n",
        "  The data in Table 4 are messy because currently, each variable does not form a column, the data is not separated out into observations that form rows, and each type of observation unit does not form its own table of values.\n",
        "\n",
        "  \"Melting\" a dataset refers to turning the columns into rows. In melting, the list of columns that already have variables are called colvars. The other columns in the dataset are converted into a variable called column, and a variables called value. The result of this process is a \"molten\" dataset.\n",
        "\n",
        "\n",
        "\n",
        "7. Table 11 is messy because variables are stored in both rows and in columns. Specifically, variables are in individual columns and across rows. There is also an issue with the format of months since months with fewer than 31 days have structural missing values for the last day(s) of the month. Additionally, the element columnn is not a variable, but it rather stores the names of variable.\n",
        "\n",
        "  Table 12 is a tidy and molten version of Table 11 because the colvars id, year, month and the column with the variable names, elements, are melted. The missing values are also dropped from the dataset. Then, the column with sex and age is split into two new columns. Finally, there is a tidy dataset where there is one variable per column, each row is an observation, and each observation unit forms a table.\n",
        "\n",
        "\n",
        "8. The chicken-and-egg problem says that tidy tools are linked to tidy data if tidy data is only as useful as the tools that work with it. This establishes the necessary coexistence between tidy data and its tools. More specifically, tidy data relies on tidy tools, but tidy tools also expect tidy data. The \"problem\" here is whether or not tidy tools should first be made, and then the tidy data should be made to work with these tools, or if the tidy tools should be made to fit the data. This gets into what Wickham wants to happen in the future. He hopes that the tidy data framework is continously improved and build upon. He also wants tidy data to use ideas from a more diverse spread of disciplines, so it can explore different data formats."
      ],
      "metadata": {
        "id": "YCFQZsCvAelO"
      },
      "id": "YCFQZsCvAelO"
    },
    {
      "cell_type": "markdown",
      "id": "da879ea7-8aac-48a3-b6c2-daea56d2e072",
      "metadata": {
        "id": "da879ea7-8aac-48a3-b6c2-daea56d2e072"
      },
      "source": [
        "**Q2.** This question provides some practice cleaning variables which have common problems.\n",
        "1. Numeric variable: For `./data/airbnb_hw.csv`, clean the `Price` variable as well as you can, and explain the choices you make. How many missing values do you end up with? (Hint: What happens to the formatting when a price goes over 999 dollars, say from 675 to 1,112?)\n",
        "2. Categorical variable: For the `./data/sharks.csv` data covered in the lecture, clean the \"Type\" variable as well as you can, and explain the choices you make.\n",
        "3. Dummy variable: For the pretrial data covered in the lecture, clean the `WhetherDefendantWasReleasedPretrial` variable as well as you can, and, in particular, replace missing values with `np.nan`.\n",
        "4. Missing values, not at random: For the pretrial data covered in the lecture, clean the `ImposedSentenceAllChargeInContactEvent` variable as well as you can, and explain the choices you make. (Hint: Look at the `SentenceTypeAllChargesAtConvictionInContactEvent` variable.)"
      ]
    },
    {
      "cell_type": "code",
      "source": [
        "import pandas as pd\n",
        "\n",
        "#Question 1 - Cleaning Price Variable in airbnb_hw.csv\n",
        "\n",
        "airbnb_df = pd.read_csv(\"/content/airbnb_hw.csv\")\n",
        "\n",
        "#print(airbnb_df.info())\n",
        "\n",
        "#print(airbnb_df.head(10))\n",
        "\n",
        "#CLEANING: remove the commas from the prices and also make them integers\n",
        "airbnb_df['Price'] = airbnb_df['Price'].str.replace(',', '')\n",
        "\n",
        "# print(airbnb_df['Price'].unique())\n",
        "\n",
        "# print(airbnb_df['Price'].value_counts())\n",
        "\n",
        "#COERCION: coerce to numeric\n",
        "\n",
        "airbnb_df['Price'] = pd.to_numeric(airbnb_df['Price'])\n",
        "\n",
        "print(airbnb_df['Price'].hist(bins = 100))\n",
        "\n",
        "#IMPUTATION:\n",
        "\n",
        "airbnb_df['Price' + '_nan'] = airbnb_df['Price'].isnull()\n",
        "\n",
        "\n",
        "print(\"Total Missing: \", sum(airbnb_df['Price_nan']))\n",
        "\n",
        "#Summary of Choices: First, I visualized the data and noticed that numbers above 999 were separated by commas. To fix this, I removed the ',' and also coerced the values to numeric. I then checked to see how many null/na values there were (there were none), so no imputation was needed.\n"
      ],
      "metadata": {
        "id": "HwTjLWaJcqEW",
        "outputId": "81cad37f-48b5-4ce6-f3d1-4163bee98450",
        "colab": {
          "base_uri": "https://localhost:8080/",
          "height": 467
        }
      },
      "id": "HwTjLWaJcqEW",
      "execution_count": 5,
      "outputs": [
        {
          "output_type": "stream",
          "name": "stdout",
          "text": [
            "Axes(0.125,0.11;0.775x0.77)\n",
            "Total Missing:  0\n"
          ]
        },
        {
          "output_type": "display_data",
          "data": {
            "text/plain": [
              "<Figure size 640x480 with 1 Axes>"
            ],
            "image/png": "[encoded data removed]"
          },
          "metadata": {}
        }
      ]
    },
    {
      "cell_type": "code",
      "source": [
        "import numpy as np\n",
        "#Question 2 - Cleaning Type Variable in sharks.csv\n",
        "\n",
        "sharks_df = pd.read_csv('/content/sharks.csv')\n",
        "\n",
        "# print(sharks_df.info())\n",
        "# print(sharks_df.head(10))\n",
        "\n",
        "print(sharks_df['Type'].nunique())\n",
        "\n",
        "print(sharks_df['Type'].unique())\n",
        "\n",
        "sharks_df['Type'] = sharks_df['Type'].replace('nan', np.nan)\n",
        "\n",
        "sharks_df['Type' + '_nan'] = sharks_df['Type'].isnull()\n",
        "\n",
        "\n",
        "print(\"Total Missing: \", sum(sharks_df['Type_nan']))\n",
        "\n",
        "print(sharks_df[sharks_df['Type_nan'] == True])\n",
        "\n",
        "sharks_df = sharks_df.dropna(subset = ['Type'])\n",
        "\n",
        "print(sharks_df['Type'].unique())\n",
        "\n",
        "\n",
        "#Summary of Choices: I first looked at the categories in the Type variable, and saw that there was a category called \"nan.\" To further investigate, I checked to see how many values were nan, and found that there were 5. After looking at the full observations, I decided it would make the most sense to drop these from the dataset since most of these observations also had other missing fields and since the dataset is so large, it is unlikely this decision would lead to losing contextual importance."
      ],
      "metadata": {
        "id": "nNNltxgTjut8",
        "outputId": "df35e652-be6b-441c-8e65-db742de8ee03",
        "colab": {
          "base_uri": "https://localhost:8080/"
        }
      },
      "id": "nNNltxgTjut8",
      "execution_count": 10,
      "outputs": [
        {
          "output_type": "stream",
          "name": "stdout",
          "text": [
            "12\n",
            "['Unprovoked' 'Provoked' 'Questionable' 'Watercraft' 'Unconfirmed'\n",
            " 'Unverified' 'Invalid' 'Under investigation' 'Boating' 'Sea Disaster' nan\n",
            " 'Boat' 'Boatomg']\n",
            "Total Missing:  5\n",
            "      index   Case Number                  Date    Year Type    Country  \\\n",
            "239     239  2017.09.15.a           15-Sep-2017  2017.0  NaN      SAMOA   \n",
            "537     537    2015.07.27           27-Jul-2015  2015.0  NaN  AUSTRALIA   \n",
            "4087   4087           NaN                   NaN     NaN  NaN        NaN   \n",
            "5025   5025  1936.09.11.R  Reported 11-Sep-1936  1936.0  NaN    VIETNAM   \n",
            "5864   5864  1890.03.03.R  Reported 03-Mar-1890  1890.0  NaN     CEYLON   \n",
            "\n",
            "              Area          Location           Activity           Name  ...  \\\n",
            "239   Upolu Island         Nofoali’i            Fishing           male  ...   \n",
            "537       Victoria  Tyrendarra Beach            Surfing           male  ...   \n",
            "4087           NaN               NaN                NaN            NaN  ...   \n",
            "5025           NaN            Saigon  Wreck of a sampam         8 crew  ...   \n",
            "5864           NaN               NaN             Diving  a pearl diver  ...   \n",
            "\n",
            "     Unnamed: 247 Unnamed: 248 Unnamed: 249 Unnamed: 250 Unnamed: 251  \\\n",
            "239           NaN          NaN          NaN          NaN          NaN   \n",
            "537           NaN          NaN          NaN          NaN          NaN   \n",
            "4087          NaN          NaN          NaN          NaN          NaN   \n",
            "5025          NaN          NaN          NaN          NaN          NaN   \n",
            "5864          NaN          NaN          NaN          NaN          NaN   \n",
            "\n",
            "     Unnamed: 252 Unnamed: 253 Unnamed: 254 Unnamed: 255 Type_nan  \n",
            "239           NaN          NaN          NaN          NaN     True  \n",
            "537           NaN          NaN          NaN          NaN     True  \n",
            "4087          NaN          NaN          NaN          NaN     True  \n",
            "5025          NaN          NaN          NaN          NaN     True  \n",
            "5864          NaN          NaN          NaN          NaN     True  \n",
            "\n",
            "[5 rows x 258 columns]\n",
            "['Unprovoked' 'Provoked' 'Questionable' 'Watercraft' 'Unconfirmed'\n",
            " 'Unverified' 'Invalid' 'Under investigation' 'Boating' 'Sea Disaster'\n",
            " 'Boat' 'Boatomg']\n"
          ]
        },
        {
          "output_type": "stream",
          "name": "stderr",
          "text": [
            "<ipython-input-10-19804bcf5db0>:4: DtypeWarning: Columns (10,17,18,19,20,21,24) have mixed types. Specify dtype option on import or set low_memory=False.\n",
            "  sharks_df = pd.read_csv('/content/sharks.csv')\n"
          ]
        }
      ]
    },
    {
      "cell_type": "code",
      "source": [
        "pretrial_df = pd.read_csv('/content/VirginiaPretrialData2017.csv')"
      ],
      "metadata": {
        "id": "B1S01Di9sTno",
        "outputId": "55692e60-f8ee-4dcf-cb90-7d6babf9d4df",
        "colab": {
          "base_uri": "https://localhost:8080/"
        }
      },
      "id": "B1S01Di9sTno",
      "execution_count": 66,
      "outputs": [
        {
          "output_type": "stream",
          "name": "stderr",
          "text": [
            "<ipython-input-66-e569a0dd22f5>:1: DtypeWarning: Columns (1,4,5,7,79,80,81,82,83,84,108,163,164,165,166,168,169,170,171,172,173,174,175,176,177,178,179,180,181,182,183,184,185,186,187,188,189,190,191,192,193,194,195,196,197,198,199,200,201,202,203,204,205,206,207,208,209,210,211,212,213,214,215,216,217,218,219,220,221,222,223,224,225,226,227,228,229,230,231,232,233,234,235,236,237,238,239,240,241,242,243,244,245,246,247,248,249,250,251,252,253,254,255,256,257,258,259,260,261,262,263,264,265,266,267,268,270,271,272,273,275,276,277,278,279,280,281,282,283,284,285,286,287,288,289,290,291,292,293,294,295,296,297,301,302,303,306,307,308,309,310,311,312,313,314,315,316,317,318,319,320,321,322,323,324,325,326,327,328,329,330,331,332,333,334,335,336,337,338,339,340,341,342,343,344,345,346,347,348,349,350,351,352,353,354,355,356,357,358,359,360,361,362,363,364,365,366,367,368,369,370,371,372,373,374,375,376,377,378,379,380,381,382,383,384,385,386,387,388,389,390,391,392,393,394,395,396,397,398,399,400,401,402,403,404,405,406,407,408,409,410,411,412,413,414,415,416,417,418,419,420,421,422,423,424,425,426,427,428,429,430,431,432,433,434,435,436,437,438,439,440,441,442,443,444,445,446,447,448,449,450,451,452,453,454,455,456,457,458,459,460,461,462,463,464,465,466,467,468,469,470,471,472,473,474,475,476,477,478,479,480,481,482,483,484,485,486,487,488,489,490,491,492,493,494,495,496,497,498,499,500,502,503,504,505,506,507,508,509,510,511,512,513,514,515,516,517,518,519,520,521,522,523,524,525,526,527,528,529,530,531,532,533,534,535,536,537,538,539,540,541,542,543,544,545,706) have mixed types. Specify dtype option on import or set low_memory=False.\n",
            "  pretrial_df = pd.read_csv('/content/VirginiaPretrialData2017.csv')\n"
          ]
        }
      ]
    },
    {
      "cell_type": "code",
      "source": [
        "#Question 3 - Cleaning WhetherDefendantWasReleasedPretrial Variable in pretrial data\n",
        "\n",
        "pretrial_df['WhetherDefendantWasReleasedPretrial' + '_nan'] = pretrial_df['WhetherDefendantWasReleasedPretrial'].isnull()\n",
        "\n",
        "\n",
        "print(\"Total Missing: \", sum(pretrial_df['WhetherDefendantWasReleasedPretrial_nan']))\n",
        "\n",
        "\n",
        "print(pretrial_df['WhetherDefendantWasReleasedPretrial'].unique())\n",
        "\n",
        "print(pretrial_df['WhetherDefendantWasReleasedPretrial'].value_counts())\n",
        "\n",
        "pretrial_df['WhetherDefendantWasReleasedPretrial'] = pretrial_df['WhetherDefendantWasReleasedPretrial'].replace(9, np.nan)\n",
        "\n",
        "print(pretrial_df['WhetherDefendantWasReleasedPretrial'].value_counts())\n",
        "\n",
        "#Summary of Choices: I found that the dummy variable had 31 observations with a value of 9, which does not make sense when the dummy variable requires a 1 (yes) or a 0 (no). I replaced all values of 9 with np.nan."
      ],
      "metadata": {
        "id": "NdP5JgSKrIT0",
        "outputId": "c6273e44-6650-41f1-8284-dbc7f15af441",
        "colab": {
          "base_uri": "https://localhost:8080/"
        }
      },
      "id": "NdP5JgSKrIT0",
      "execution_count": 11,
      "outputs": [
        {
          "output_type": "stream",
          "name": "stdout",
          "text": [
            "Total Missing:  0\n",
            "[9 0 1]\n",
            "1    19154\n",
            "0     3801\n",
            "9       31\n",
            "Name: WhetherDefendantWasReleasedPretrial, dtype: int64\n",
            "1.0    19154\n",
            "0.0     3801\n",
            "Name: WhetherDefendantWasReleasedPretrial, dtype: int64\n"
          ]
        }
      ]
    },
    {
      "cell_type": "code",
      "source": [
        "#Question 4 - Cleaning ImposedSentenceAllChargeInContactEvent Variable in pretrial data\n",
        "\n",
        "pretrial_df['ImposedSentenceAllChargeInContactEvent'] = pretrial_df['ImposedSentenceAllChargeInContactEvent'].replace(' ', '0')\n",
        "pretrial_df['ImposedSentenceAllChargeInContactEvent'] = pretrial_df['ImposedSentenceAllChargeInContactEvent'].astype(float)\n",
        "\n",
        "#print(pretrial_df['ImposedSentenceAllChargeInContactEvent'].unique())\n",
        "\n",
        "#print(pd.crosstab(pretrial_df['SentenceTypeAllChargesAtConvictionInContactEvent'],pretrial_df['ImposedSentenceAllChargeInContactEvent'] ))\n",
        "\n",
        "\n",
        "pretrial_df.loc[ pretrial_df['SentenceTypeAllChargesAtConvictionInContactEvent'] == 0, 'ImposedSentenceAllChargeInContactEvent'] = 0\n",
        "\n",
        "pretrial_df.loc[ pretrial_df['ImposedSentenceAllChargeInContactEvent'].astype(int) < 12, 'SentenceTypeAllChargesAtConvictionInContactEvent'] = 1\n",
        "\n",
        "pretrial_df.loc[ pretrial_df['ImposedSentenceAllChargeInContactEvent'].astype(int) >= 12, 'SentenceTypeAllChargesAtConvictionInContactEvent'] = 2\n",
        "\n",
        "pretrial_df.loc[ pretrial_df['SentenceTypeAllChargesAtConvictionInContactEvent'] == 4, 'ImposedSentenceAllChargeInContactEvent'] = 0\n",
        "\n",
        "pretrial_df.loc[ pretrial_df['SentenceTypeAllChargesAtConvictionInContactEvent'] == 9, 'ImposedSentenceAllChargeInContactEvent'] = 0\n",
        "\n",
        "print(pretrial_df.loc[ pretrial_df['SentenceTypeAllChargesAtConvictionInContactEvent'] == 4, 'ImposedSentenceAllChargeInContactEvent'].value_counts())\n",
        "\n",
        "\n",
        "#print(pretrial_df['ImposedSentenceAllChargeInContactEvent'].isna().sum())\n",
        "\n",
        "# print(pretrial_df['ImposedSentenceAllChargeInContactEvent'].unique())\n",
        "\n",
        "#Summary of Choices: I found that there were inconsistencies in the data. Specifically, some values in SentenceType 1 and SentenceType 2 did not actually belong there according to the codebook. To fix this, I swapped them to their correct column label."
      ],
      "metadata": {
        "id": "GifFQFBive1r",
        "outputId": "97e7d810-a161-4680-d61f-73a2564b245d",
        "colab": {
          "base_uri": "https://localhost:8080/"
        }
      },
      "id": "GifFQFBive1r",
      "execution_count": 82,
      "outputs": [
        {
          "output_type": "stream",
          "name": "stdout",
          "text": [
            "Series([], Name: ImposedSentenceAllChargeInContactEvent, dtype: int64)\n"
          ]
        }
      ]
    },
    {
      "cell_type": "markdown",
      "id": "c11bcd96-2834-41a4-80fe-d354b4277fd9",
      "metadata": {
        "id": "c11bcd96-2834-41a4-80fe-d354b4277fd9"
      },
      "source": [
        "**Q3.** This question provides some practice doing exploratory data analysis and visualization.\n",
        "\n",
        "The \"relevant\" variables for this question are:\n",
        "  - `level` - Level of institution (4-year, 2-year)\n",
        "  - `aid_value` - The average amount of student aid going to undergraduate recipients\n",
        "  - `control` - Public, Private not-for-profit, Private for-profit\n",
        "  - `grad_100_value` - percentage of first-time, full-time, degree-seeking undergraduates who complete a degree or certificate program within 100 percent of expected time (bachelor's-seeking group at 4-year institutions)\n",
        "\n",
        "1. Load the `./data/college_completion.csv` data with Pandas.\n",
        "2. What are are the dimensions of the data? How many observations are there? What are the variables included? Use `.head()` to examine the first few rows of data.\n",
        "3. Cross tabulate `control` and `level`. Describe the patterns you see.\n",
        "4. For `grad_100_value`, create a histogram, kernel density plot, boxplot, and statistical description.\n",
        "5. For `grad_100_value`, create a grouped kernel density plot by `control` and by `level`. Describe what you see. Use `groupby` and `.describe` to make grouped calculations of statistical descriptions of `grad_100_value` by `level` and `control`. Which institutions appear to have the best graduation rates?\n",
        "6. Create a new variable, `df['levelXcontrol']=df['level']+', '+df['control']` that interacts level and control. Make a grouped kernel density plot. Which institutions appear to have the best graduation rates?\n",
        "7. Make a kernel density plot of `aid_value`. Notice that your graph is \"bi-modal\", having two little peaks that represent locally most common values. Now group your graph by `level` and `control`. What explains the bi-modal nature of the graph? Use `groupby` and `.describe` to make grouped calculations of statistical descriptions of `aid_value` by `level` and `control`.\n",
        "8. Make a scatterplot of `grad_100_value` by `aid_value`. Describe what you see. Now make the same plot, grouping by `level` and then `control`. Describe what you see. For which kinds of institutions does aid seem to increase graduation rates?"
      ]
    },
    {
      "cell_type": "markdown",
      "id": "98d34a3b-c21d-4dc9-a8d2-fb7686804ceb",
      "metadata": {
        "id": "98d34a3b-c21d-4dc9-a8d2-fb7686804ceb"
      },
      "source": [
        "**Q4.** This question uses the Airbnb data to practice making visualizations.\n",
        "\n",
        "  1. Load the `./data/airbnb_hw.csv` data with Pandas. You should have cleaned the `Price` variable in question 2, and you'll need it later for this question.\n",
        "  2. What are are the dimensions of the data? How many observations are there? What are the variables included? Use `.head()` to examine the first few rows of data.\n",
        "  3. Cross tabulate `Room Type` and `Property Type`. What patterns do you see in what kinds of rentals are available? For which kinds of properties are private rooms more common than renting the entire property?\n",
        "  4. For `Price`, make a histogram, kernel density, box plot, and a statistical description of the variable. Are the data badly scaled? Are there many outliers? Use `log` to transform price into a new variable, `price_log`, and take these steps again.\n",
        "  5. Make a scatterplot of `price_log` and `Beds`. Describe what you see. Use `.groupby()` to compute a desciption of `Price` conditional on/grouped by the number of beds. Describe any patterns you see in the average price and standard deviation in prices.\n",
        "  6. Make a scatterplot of `price_log` and `Beds`, but color the graph by `Room Type` and `Property Type`. What patterns do you see? Compute a description of `Price` conditional on `Room Type` and `Property Type`. Which Room Type and Property Type have the highest prices on average? Which have the highest standard deviation? Does the mean or median appear to be a more reliable estimate of central tendency, and explain why?\n",
        "  7. We've looked a bit at this `price_log` and `Beds` scatterplot. Use seaborn to make a `jointplot` with `kind=hex`. Where are the data actually distributed? How does it affect the way you think about the plots in 5 and 6?"
      ]
    },
    {
      "cell_type": "markdown",
      "id": "649494cd-cfd6-4f80-992a-9994fc19e1d5",
      "metadata": {
        "id": "649494cd-cfd6-4f80-992a-9994fc19e1d5"
      },
      "source": [
        "**Q5.** Many important datasets contain a race variable, typically limited to a handful of values often including Black, White, Asian, Latino, and Indigenous. This question looks at data gathering efforts on this variable by the U.S. Federal government.\n",
        "\n",
        "1. How did the most recent US Census gather data on race?\n",
        "2. Why do we gather these data? What role do these kinds of data play in politics and society? Why does data quality matter?\n",
        "3. Please provide a constructive criticism of how the Census was conducted: What was done well? What do you think was missing? How should future large scale surveys be adjusted to best reflect the diversity of the population? Could some of the Census' good practices be adopted more widely to gather richer and more useful data?\n",
        "4. How did the Census gather data on sex and gender? Please provide a similar constructive criticism of their practices.\n",
        "5. When it comes to cleaning data, what concerns do you have about protected characteristics like sex, gender, sexual identity, or race? What challenges can you imagine arising when there are missing values? What good or bad practices might people adopt, and why?\n",
        "6. Suppose someone invented an algorithm to impute values for protected characteristics like race, gender, sex, or sexuality. What kinds of concerns would you have?"
      ]
    },
    {
      "cell_type": "markdown",
      "id": "2f38f2fd-6381-481d-bba9-017f3d363426",
      "metadata": {
        "id": "2f38f2fd-6381-481d-bba9-017f3d363426"
      },
      "source": [
        "**Q6.** Open the `./data/CBO_data.pdf` file. This contains tax data for 2019, explaining where the money comes from that the U.S. Federal Government Spends in terms of taxation on individuals/families and payroll taxes (the amount that your employer pays in taxes on your wages).\n",
        "\n",
        "For some context, the Federal government ultimately spent about $4.4 trillion in 2019, which was 21% of GDP (the total monetary value of all goods and services produced within the United States). Individual Income Taxes is the amount individuals pay on their wages to the Federal government, Corporate Income Taxes is the taxes individuals pay on capital gains from investment when they sell stock or other financial instruments, Payroll Taxes is the tax your employer pays on your wages, Excises and Customs Duties are taxes on goods or services like sin taxes on cigarettes or alcohol, and Estate and Gift Taxes are taxes paid on transfers of wealth to other people.\n",
        "\n",
        "1. Get the Millions of Families and Billions of Dollars data into a .csv file and load it with Pandas.\n",
        "2. Create a bar plot of individual income taxes by income decile. Explain what the graph shows. Why are some values negative?\n",
        "3. Create a bar plot of Total Federal Taxes by income decile. Which deciles are paying net positive amounts, and which are paying net negative amounts?\n",
        "4. Create a stacked bar plot for which Total Federal Taxes is grouped by Individual Income Taxes, Payroll Taxes, Excises and Customs Duties, and Estate and Gift Taxes. How does the share of taxes paid vary across the adjusted income deciles? (Hint: Are these the kind of data you want to melt?)\n",
        "5. Below the Total line for Millions of Families and Billions of Dollars, there are data for the richest of the richest families. Plot this alongside the bars for the deciles above the Total line. Describe your results.\n",
        "6. Get the Percent Distribution data into a .csv file and load it with Pandas. Create a bar graph of Total Federal Taxes by income decile.\n",
        "7. A tax system is progressive if higher-income and wealthier individuals pay more than lower-income and less wealthy individuals, and it is regressive if the opposite is true. Is the U.S. tax system progressive in terms of amount paid? In terms of the percentage of the overall total?\n",
        "8. Do the rich pay enough in taxes? Defend your answer."
      ]
    }
  ],
  "metadata": {
    "kernelspec": {
      "display_name": "Python 3 (ipykernel)",
      "language": "python",
      "name": "python3"
    },
    "language_info": {
      "codemirror_mode": {
        "name": "ipython",
        "version": 3
      },
      "file_extension": ".py",
      "mimetype": "text/x-python",
      "name": "python",
      "nbconvert_exporter": "python",
      "pygments_lexer": "ipython3",
      "version": "3.10.4"
    },
    "colab": {
      "provenance": [],
      "include_colab_link": true
    }
  },
  "nbformat": 4,
  "nbformat_minor": 5
}